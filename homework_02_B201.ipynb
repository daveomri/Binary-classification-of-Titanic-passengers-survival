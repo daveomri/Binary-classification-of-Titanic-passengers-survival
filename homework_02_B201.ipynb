{
 "cells": [
  {
   "cell_type": "markdown",
   "metadata": {},
   "source": [
    "# Úkol č. 2 - předzpracování dat a binární klasifikace (do 9. listopadu 23:59)\n",
    "\n",
    "  * V rámci tohoto úkolu se musíte vypořádat s příznaky, které jsou různých typů.\n",
    "  * Před tím, než na nich postavíte predikční model, je třeba je nějakým způsobem převést do číselné reprezentace.\n",
    "    \n",
    "> **Úkoly jsou zadány tak, aby Vám daly prostor pro invenci. Vymyslet _jak přesně_ budete úkol řešit, je důležitou součástí zadání a originalita či nápaditost bude také hodnocena!**\n",
    "\n",
    "## Zdroj dat\n",
    "\n",
    "Budeme se zabývat predikcí přežití pasažérů Titaniku.\n",
    "K dispozici máte trénovací data v souboru **data.csv** a data na vyhodnocení v souboru **evaluation.csv**.\n",
    "\n",
    "#### Seznam příznaků:\n",
    "* survived - zda přežil, 0 = Ne, 1 = Ano, **vysvětlovaná proměnná**, kterou chcete predikovat\n",
    "* pclass - Třída lodního lístku, 1 = první, 2 = druhá, 3 = třetí\n",
    "* name - jméno\n",
    "* sex - pohlaví\n",
    "* age - věk v letech\n",
    "* sibsp\t- počet sourozenců / manželů, manželek na palubě\n",
    "* parch - počet rodičů / dětí na palubě\n",
    "* ticket - číslo lodního lístku\n",
    "* fare - cena lodního lístku\n",
    "* cabin\t- číslo kajuty\n",
    "* embarked\t- místo nalodění, C = Cherbourg, Q = Queenstown, S = Southampton\n",
    "* home.dest - Bydliště/Cíl\n",
    "\n",
    "## Pokyny k vypracování\n",
    "\n",
    "**Základní body zadání**, za jejichž (poctivé) vypracování získáte **8 bodů**:\n",
    "  * V Jupyter notebooku načtěte data ze souboru **data.csv**. Vhodným způsobem si je rozdělte na podmnožiny vhodné k trénování modelu.\n",
    "  * Projděte si jednotlivé příznaky a transformujte je do vhodné podoby pro použití ve vybraném klasifikačním modelu.\n",
    "  * Podle potřeby si můžete vytvářet nové příznaky (na základě existujících), například tedy můžete vytvořit příznak měřící délku jména. Některé příznaky můžete také úplně zahodit.\n",
    "  * Nějakým způsobem se vypořádejte s chybějícími hodnotami.\n",
    "  * Následně si vyberte vhodný klasifikační model z přednášek. Najděte vhodné hyperparametry a určete jeho přesnost (accuracy) na trénovací množině. Také určete jeho přesnost na testovací množině.\n",
    "  * Načtěte vyhodnocovací data ze souboru **evaluation.csv**. Napočítejte predikce pro tyto data (vysvětlovaná proměnná v nich již není). Vytvořte **results.csv** soubor, ve kterém tyto predikce uložíte do dvou sloupců: ID, predikce přežití. Tento soubor nahrajte do repozitáře.\n",
    "  * Ukázka prvních řádků souboru *results.csv*:\n",
    "  \n",
    "```\n",
    "ID,survived\n",
    "1000,0\n",
    "1001,1\n",
    "...\n",
    "```\n",
    "\n",
    "**Další body zadání** za případné další body  (můžete si vybrat, maximum bodů za úkol je každopádně 12 bodů):\n",
    "  * (až +4 body) Aplikujte všechny klasifikační modely z přednášek a určete (na základě přesnosti na validační množině), který je nejlepší. Přesnost tohoto nejlepšího modelu odhadněte pomocí křížové validace. K predikcím na vyhodnocovacích datech využijte tento model.\n",
    "  * (až +4 body) Zkuste použít nějaké (alespoň dvě) netriviální metody doplňování chybějících hodnot u věku. Zaměřte na vliv těchto metod na přesnost predikce výsledného modelu. K predikcím na vyhodnocovacích datech využijte ten přístup, který Vám vyjde jako nejlepší.\n",
    "\n",
    "## Poznámky k odevzdání\n",
    "\n",
    "  * Řiďte se pokyny ze stránky https://courses.fit.cvut.cz/BI-VZD/homeworks/index.html.\n",
    "  * Odevzdejte nejen Jupyter Notebook, ale i _csv_ soubor s predikcemi pro vyhodnocovací data (`results.csv`).\n",
    "  * Opravující Vám může umožnit úkol dodělat či opravit a získat tak další body. První verze je ale důležitá a bude-li odbytá, budete za to penalizováni**"
   ]
  },
  {
   "cell_type": "markdown",
   "metadata": {},
   "source": [
    "### Import knihoven\n",
    "*knihovny importuji na jednom místě, abych předešel nepřehlednosti v kódu"
   ]
  },
  {
   "cell_type": "code",
   "execution_count": 1,
   "metadata": {},
   "outputs": [],
   "source": [
    "import warnings\n",
    "import pandas as pd\n",
    "import numpy as np\n",
    "import matplotlib.pyplot as plt\n",
    "import matplotlib\n",
    "%matplotlib inline\n",
    "from sklearn.model_selection import train_test_split\n",
    "\n",
    "from sklearn.tree import DecisionTreeClassifier\n",
    "from sklearn.ensemble import RandomForestClassifier\n",
    "from sklearn.metrics import accuracy_score\n",
    "from sklearn.model_selection import ParameterGrid\n",
    "import math\n",
    "import sklearn.metrics as metrics\n",
    "\n",
    "from sklearn.model_selection import ParameterGrid, train_test_split, KFold, LeaveOneOut\n",
    "from sklearn.preprocessing import MinMaxScaler, LabelEncoder\n",
    "from sklearn import metrics, datasets\n",
    "from sklearn.neighbors import KNeighborsRegressor, KNeighborsClassifier\n",
    "\n",
    "warnings.simplefilter(action='ignore', category=FutureWarning)"
   ]
  },
  {
   "cell_type": "markdown",
   "metadata": {},
   "source": [
    "### Pomocné funkce\n",
    "* V této části si vytvářím funkce pro zpřehlednění kódu a abych nemusel nic duplikovat\n",
    "* knn_missing_values_finder je funkce, která jako vstup dostává\n",
    "    * data_notnull - data ve kterých už nejsou chybějící data\n",
    "    * pred_col - název sloupce, který chceme predikovat\n",
    "    * pred_data - data ve kterých chybí hodnota, kterou chceme predikovat\n",
    "* V této funci ne nejprve naučí model z dat, kterým nechybí daná hodnota a následě se z tohoto modelu bude predikovat hodnota těm, co ji nemají"
   ]
  },
  {
   "cell_type": "code",
   "execution_count": 2,
   "metadata": {},
   "outputs": [],
   "source": [
    "#doplneni chybejicich hodnot pomoci knn\n",
    "def knn_missing_values_finder(data_notnull, pred_col, pred_data, with_survived_col=0):\n",
    "    #random seed\n",
    "    random_seed = 12247112\n",
    "    n_splits = 5\n",
    "    \n",
    "    #oprava, vylouceni survived\n",
    "    org_data = data_notnull\n",
    "    org_pred_data = pred_data\n",
    "    if with_survived_col == 1:\n",
    "        data_notnull = data_notnull.drop(columns='survived')\n",
    "        pred_data = pred_data.drop(columns='survived')\n",
    "    \n",
    "    # Hodnoty hyperparametrů\n",
    "    param_grid = {\n",
    "        'n_neighbors' : range(1, 12),\n",
    "        'p': range(1, 5),\n",
    "        #'algorithm': ['auto', 'ball_tree', 'kd_tree', 'brute'],\n",
    "        'weights': ['uniform', 'distance'],\n",
    "    }\n",
    "    param_comb = ParameterGrid(param_grid)\n",
    "\n",
    "    err = []\n",
    "    models = []\n",
    "    #zkouseni jednotlivych kombinaci\n",
    "    for params in param_comb:\n",
    "        comb_err = []\n",
    "        best_model = {}\n",
    "        for train, val in KFold(n_splits=n_splits, random_state=random_seed).split(data_notnull.index):\n",
    "                #vytvoreni trenovacich a validacnich mnozin\n",
    "                Xtrain = data_notnull[data_notnull.index.isin(train)].drop(columns=pred_col)\n",
    "                \n",
    "                ytrain = data_notnull[data_notnull.index.isin(train)][pred_col]\n",
    "                Xval = data_notnull[data_notnull.index.isin(val)].drop(columns=pred_col)\n",
    "                yval = data_notnull[data_notnull.index.isin(val)][pred_col]\n",
    "\n",
    "                scaler = MinMaxScaler()\n",
    "                Xtrain = pd.DataFrame(scaler.fit_transform(Xtrain), index=Xtrain.index, columns=Xtrain.columns)\n",
    "                Xval = pd.DataFrame(scaler.transform(Xval), index=Xval.index, columns=Xval.columns)\n",
    "                \n",
    "                #vytvoreni a natrenovani modelu\n",
    "                model = KNeighborsRegressor(**params)\n",
    "                model.fit(Xtrain, ytrain)\n",
    "                \n",
    "                rmsle = np.sqrt(metrics.mean_squared_log_error(yval, model.predict(Xval)))\n",
    "                #ulozeni nejlepsiho modelu\n",
    "                if not comb_err:\n",
    "                    best_model = model                    \n",
    "                else:\n",
    "                    rmsle_min = np.argmin(comb_err)\n",
    "                    if (rmsle_min > rmsle):\n",
    "                        best_model = model\n",
    "                comb_err.append(rmsle)\n",
    "                \n",
    "        err.append(np.mean(comb_err))\n",
    "        models.append(best_model)\n",
    "    \n",
    "    #vyhodnoceni informaci z prohledavani\n",
    "    best_index = np.argmin(err)\n",
    "    best_params = param_comb[best_index]\n",
    "    best_err = err[best_index]\n",
    "    model = models[best_index]\n",
    "    \n",
    "    #vygenerovani predikce\n",
    "    pred_values = model.predict(pred_data)\n",
    "    #napojeni predikce k datum\n",
    "    org_pred_data[pred_col] = pred_values\n",
    "    \n",
    "    #sjednoceni dat, tech ktere jsme doplnovali a tem z kterych jsme ucili model\n",
    "    union_data = pd.concat([org_data, org_pred_data])\n",
    "    #serazeni dat dle indexu\n",
    "    union_data.sort_index(inplace=True)\n",
    "    #vraceni dat\n",
    "    return union_data"
   ]
  },
  {
   "cell_type": "markdown",
   "metadata": {},
   "source": [
    "* tato funkce slouží k predikci věku pomocí medianu ze zánamů, které se chybějícím alespoň trochu podobají\n",
    "* podobnost jsem vyhodnotil na základě třídy a pohlaví"
   ]
  },
  {
   "cell_type": "code",
   "execution_count": 3,
   "metadata": {},
   "outputs": [],
   "source": [
    "#doplneni veku pomoci medianu\n",
    "def median_age_missing_finder(data):\n",
    "    nodata = data\n",
    "    #age preprocessing na zaklade tridy\n",
    "    nonanval = nodata[nodata.age!='?']\n",
    "    #first class\n",
    "    fclass = nonanval[nonanval.pclass == 1]\n",
    "    fclass_m = fclass[fclass.sex == 1].age.median()\n",
    "    fclass_w = fclass[fclass.sex == 0].age.median()\n",
    "    #second class\n",
    "    sclass = nonanval[nonanval.pclass == 2]\n",
    "    sclass_m = sclass[sclass.sex == 1].age.median()\n",
    "    sclass_w = sclass[sclass.sex == 0].age.median()\n",
    "    #third class\n",
    "    tclass = nonanval[nonanval.pclass == 3]\n",
    "    tclass_m = tclass[tclass.sex == 1].age.median()\n",
    "    tclass_w = tclass[tclass.sex == 0].age.median()\n",
    "\n",
    "    #main part\n",
    "    nodata.loc[(nodata.pclass == 1) & (nodata.age=='?') & (nodata.sex == 1), 'age']   = fclass_m\n",
    "    nodata.loc[(nodata.pclass == 1) & (nodata.age=='?') & (nodata.sex == 0), 'age'] = fclass_w\n",
    "\n",
    "    nodata.loc[(nodata.pclass == 2) & (nodata.age=='?') & (nodata.sex == 1), 'age']   = sclass_m\n",
    "    nodata.loc[(nodata.pclass == 2) & (nodata.age=='?') & (nodata.sex == 0), 'age'] = sclass_w\n",
    "\n",
    "    nodata.loc[(nodata.pclass == 3) & (nodata.age=='?') & (nodata.sex == 1), 'age']   = tclass_m\n",
    "    nodata.loc[(nodata.pclass == 3) & (nodata.age=='?') & (nodata.sex == 0), 'age'] = tclass_w\n",
    "    \n",
    "    return nodata"
   ]
  },
  {
   "cell_type": "markdown",
   "metadata": {},
   "source": [
    "* křížová validace nad jednotlivými kombinacemi parametrů, vrátí se nejlepší kombinace, ta co měla nejmenší RMSLE"
   ]
  },
  {
   "cell_type": "code",
   "execution_count": 4,
   "metadata": {},
   "outputs": [],
   "source": [
    "def get_best_params(class_model, param_comb, drop_col, data):\n",
    "    n_splits = 5\n",
    "    random_seed = 12247112\n",
    "    \n",
    "    err = []\n",
    "    for params in param_comb:\n",
    "        comb_err = []\n",
    "\n",
    "        for train, val in KFold(n_splits=n_splits, random_state=random_seed).split(data.index):\n",
    "            #vytvoreni trenovacich a validacnich mnozin dat\n",
    "            xtrain = data[data.index.isin(train)].drop(columns=drop_col)\n",
    "            ytrain = data[data.index.isin(train)][drop_col]\n",
    "            xval = data[data.index.isin(val)].drop(columns=drop_col)\n",
    "            yval = data[data.index.isin(val)][drop_col]\n",
    "\n",
    "            scaler = MinMaxScaler()\n",
    "            xtrain = pd.DataFrame(scaler.fit_transform(xtrain), index=xtrain.index, columns=xtrain.columns)\n",
    "            xval = pd.DataFrame(scaler.transform(xval), index=xval.index, columns=xval.columns)\n",
    "            #vytvoreni modelu a jeho natrenovani\n",
    "            model = DecisionTreeClassifier(**params) if class_model == 'dt' else RandomForestClassifier(**params)\n",
    "            model = model.fit(xtrain, ytrain.values.ravel())\n",
    "            #spocteni chyby\n",
    "            comb_err.append(np.sqrt(metrics.mean_squared_error(yval, model.predict(xval))))\n",
    "        #vlozeni stredni hodnoty ze vsech chyb jednoho behu\n",
    "        err.append(np.mean(comb_err))\n",
    "    #vypsani informaci z behu prohledavani\n",
    "    best_index = np.argmin(err)\n",
    "    best_params = param_comb[best_index]\n",
    "    best_err = err[best_index]\n",
    "    print('Best params:', best_params)\n",
    "    print('Best RMSLE: ', best_err)\n",
    "    #vraceni vysledku\n",
    "    return best_params"
   ]
  },
  {
   "cell_type": "markdown",
   "metadata": {},
   "source": [
    "#### Hlavní část programu\n",
    "* Nejprve načítám data"
   ]
  },
  {
   "cell_type": "code",
   "execution_count": 5,
   "metadata": {},
   "outputs": [],
   "source": [
    "data = pd.read_csv(\"data.csv\")\n",
    "\n",
    "# zakomentovany kod zlouzil k pokusum nad daty\n",
    "# pp = data[data.survived==0]\n",
    "# print(pp.shape)\n",
    "# print(pp[pd.isnull(pp['cabin'])].shape)\n",
    "\n",
    "# pp.to_list()[0].split()[-1]\n",
    "# pp = data[pd.isnull(data.cabin)==False]\n",
    "# pp[pp.survived == 1]"
   ]
  },
  {
   "cell_type": "markdown",
   "metadata": {},
   "source": [
    "* Než se pouštím do práce s daty a modely, tak zkoumám jak vlastně data vypadají\n",
    "    * data.shape mi ukazuje kolik je dat a sloupců\n",
    "    * data.head mi ukazuje pár dat, jak vlastně vypadají\n",
    "    * data.info prozrazuje typ dat a kolik z nich je nenullových\n",
    "    * data.nunique pro další práci s kódováním určitých znaků si zjišťuji i informaci kolik je v jednotlivých sloupcích originálních dat"
   ]
  },
  {
   "cell_type": "code",
   "execution_count": 6,
   "metadata": {},
   "outputs": [
    {
     "name": "stdout",
     "output_type": "stream",
     "text": [
      "Data shape\n"
     ]
    },
    {
     "data": {
      "text/plain": [
       "(1000, 13)"
      ]
     },
     "metadata": {},
     "output_type": "display_data"
    },
    {
     "name": "stdout",
     "output_type": "stream",
     "text": [
      "Data head\n"
     ]
    },
    {
     "data": {
      "text/html": [
       "<div>\n",
       "<style scoped>\n",
       "    .dataframe tbody tr th:only-of-type {\n",
       "        vertical-align: middle;\n",
       "    }\n",
       "\n",
       "    .dataframe tbody tr th {\n",
       "        vertical-align: top;\n",
       "    }\n",
       "\n",
       "    .dataframe thead th {\n",
       "        text-align: right;\n",
       "    }\n",
       "</style>\n",
       "<table border=\"1\" class=\"dataframe\">\n",
       "  <thead>\n",
       "    <tr style=\"text-align: right;\">\n",
       "      <th></th>\n",
       "      <th>ID</th>\n",
       "      <th>survived</th>\n",
       "      <th>pclass</th>\n",
       "      <th>name</th>\n",
       "      <th>sex</th>\n",
       "      <th>age</th>\n",
       "      <th>sibsp</th>\n",
       "      <th>parch</th>\n",
       "      <th>ticket</th>\n",
       "      <th>fare</th>\n",
       "      <th>cabin</th>\n",
       "      <th>embarked</th>\n",
       "      <th>home.dest</th>\n",
       "    </tr>\n",
       "  </thead>\n",
       "  <tbody>\n",
       "    <tr>\n",
       "      <th>0</th>\n",
       "      <td>0</td>\n",
       "      <td>1</td>\n",
       "      <td>3</td>\n",
       "      <td>Dorking, Mr. Edward Arthur</td>\n",
       "      <td>male</td>\n",
       "      <td>19.0</td>\n",
       "      <td>0</td>\n",
       "      <td>0</td>\n",
       "      <td>A/5. 10482</td>\n",
       "      <td>8.0500</td>\n",
       "      <td>NaN</td>\n",
       "      <td>S</td>\n",
       "      <td>England Oglesby, IL</td>\n",
       "    </tr>\n",
       "    <tr>\n",
       "      <th>1</th>\n",
       "      <td>1</td>\n",
       "      <td>1</td>\n",
       "      <td>2</td>\n",
       "      <td>Smith, Miss. Marion Elsie</td>\n",
       "      <td>female</td>\n",
       "      <td>40.0</td>\n",
       "      <td>0</td>\n",
       "      <td>0</td>\n",
       "      <td>31418</td>\n",
       "      <td>13.0000</td>\n",
       "      <td>NaN</td>\n",
       "      <td>S</td>\n",
       "      <td>NaN</td>\n",
       "    </tr>\n",
       "    <tr>\n",
       "      <th>2</th>\n",
       "      <td>2</td>\n",
       "      <td>0</td>\n",
       "      <td>3</td>\n",
       "      <td>Hegarty, Miss. Hanora \"Nora\"</td>\n",
       "      <td>female</td>\n",
       "      <td>18.0</td>\n",
       "      <td>0</td>\n",
       "      <td>0</td>\n",
       "      <td>365226</td>\n",
       "      <td>6.7500</td>\n",
       "      <td>NaN</td>\n",
       "      <td>Q</td>\n",
       "      <td>NaN</td>\n",
       "    </tr>\n",
       "    <tr>\n",
       "      <th>3</th>\n",
       "      <td>3</td>\n",
       "      <td>0</td>\n",
       "      <td>3</td>\n",
       "      <td>Sage, Mr. John George</td>\n",
       "      <td>male</td>\n",
       "      <td>NaN</td>\n",
       "      <td>1</td>\n",
       "      <td>9</td>\n",
       "      <td>CA. 2343</td>\n",
       "      <td>69.5500</td>\n",
       "      <td>NaN</td>\n",
       "      <td>S</td>\n",
       "      <td>NaN</td>\n",
       "    </tr>\n",
       "    <tr>\n",
       "      <th>4</th>\n",
       "      <td>4</td>\n",
       "      <td>0</td>\n",
       "      <td>3</td>\n",
       "      <td>Cacic, Miss. Marija</td>\n",
       "      <td>female</td>\n",
       "      <td>30.0</td>\n",
       "      <td>0</td>\n",
       "      <td>0</td>\n",
       "      <td>315084</td>\n",
       "      <td>8.6625</td>\n",
       "      <td>NaN</td>\n",
       "      <td>S</td>\n",
       "      <td>NaN</td>\n",
       "    </tr>\n",
       "  </tbody>\n",
       "</table>\n",
       "</div>"
      ],
      "text/plain": [
       "   ID  survived  pclass                          name     sex   age  sibsp  \\\n",
       "0   0         1       3    Dorking, Mr. Edward Arthur    male  19.0      0   \n",
       "1   1         1       2     Smith, Miss. Marion Elsie  female  40.0      0   \n",
       "2   2         0       3  Hegarty, Miss. Hanora \"Nora\"  female  18.0      0   \n",
       "3   3         0       3         Sage, Mr. John George    male   NaN      1   \n",
       "4   4         0       3           Cacic, Miss. Marija  female  30.0      0   \n",
       "\n",
       "   parch      ticket     fare cabin embarked            home.dest  \n",
       "0      0  A/5. 10482   8.0500   NaN        S  England Oglesby, IL  \n",
       "1      0       31418  13.0000   NaN        S                  NaN  \n",
       "2      0      365226   6.7500   NaN        Q                  NaN  \n",
       "3      9    CA. 2343  69.5500   NaN        S                  NaN  \n",
       "4      0      315084   8.6625   NaN        S                  NaN  "
      ]
     },
     "metadata": {},
     "output_type": "display_data"
    },
    {
     "name": "stdout",
     "output_type": "stream",
     "text": [
      "Data info\n",
      "<class 'pandas.core.frame.DataFrame'>\n",
      "RangeIndex: 1000 entries, 0 to 999\n",
      "Data columns (total 13 columns):\n",
      " #   Column     Non-Null Count  Dtype  \n",
      "---  ------     --------------  -----  \n",
      " 0   ID         1000 non-null   int64  \n",
      " 1   survived   1000 non-null   int64  \n",
      " 2   pclass     1000 non-null   int64  \n",
      " 3   name       1000 non-null   object \n",
      " 4   sex        1000 non-null   object \n",
      " 5   age        797 non-null    float64\n",
      " 6   sibsp      1000 non-null   int64  \n",
      " 7   parch      1000 non-null   int64  \n",
      " 8   ticket     1000 non-null   object \n",
      " 9   fare       1000 non-null   float64\n",
      " 10  cabin      226 non-null    object \n",
      " 11  embarked   998 non-null    object \n",
      " 12  home.dest  554 non-null    object \n",
      "dtypes: float64(2), int64(5), object(6)\n",
      "memory usage: 101.7+ KB\n"
     ]
    },
    {
     "data": {
      "text/plain": [
       "None"
      ]
     },
     "metadata": {},
     "output_type": "display_data"
    },
    {
     "name": "stdout",
     "output_type": "stream",
     "text": [
      "Data nunique\n"
     ]
    },
    {
     "data": {
      "text/plain": [
       "ID           1000\n",
       "survived        2\n",
       "pclass          3\n",
       "name          999\n",
       "sex             2\n",
       "age            93\n",
       "sibsp           7\n",
       "parch           8\n",
       "ticket        740\n",
       "fare          248\n",
       "cabin         156\n",
       "embarked        3\n",
       "home.dest     308\n",
       "dtype: int64"
      ]
     },
     "metadata": {},
     "output_type": "display_data"
    }
   ],
   "source": [
    "print(\"Data shape\")\n",
    "display(data.shape)\n",
    "print(\"Data head\")\n",
    "display(data.head())\n",
    "print(\"Data info\")\n",
    "display(data.info())\n",
    "print(\"Data nunique\")\n",
    "display(data.nunique())"
   ]
  },
  {
   "cell_type": "markdown",
   "metadata": {},
   "source": [
    "* před vyčištěním dat od nenullových si ještě jednou vypíšu v hezčím formátu informaci z dat"
   ]
  },
  {
   "cell_type": "code",
   "execution_count": 7,
   "metadata": {},
   "outputs": [
    {
     "data": {
      "text/plain": [
       "ID             0\n",
       "survived       0\n",
       "pclass         0\n",
       "name           0\n",
       "sex            0\n",
       "age          203\n",
       "sibsp          0\n",
       "parch          0\n",
       "ticket         0\n",
       "fare           0\n",
       "cabin        774\n",
       "embarked       2\n",
       "home.dest    446\n",
       "dtype: int64"
      ]
     },
     "execution_count": 7,
     "metadata": {},
     "output_type": "execute_result"
    }
   ],
   "source": [
    "#decision trees\n",
    "nodata = data.replace('?', np.nan)\n",
    "\n",
    "nodata.isnull().sum(axis=0)"
   ]
  },
  {
   "cell_type": "markdown",
   "metadata": {},
   "source": [
    "* Se znalostí podoby dat se mohu dát konečně do práce\n",
    "* Data od dělím od sloupců, které nevyužiji\n",
    "* Z důvodu nevelkého množství nullových záznamů ve sloupci embarked si jej lehce dolním, před doplněním jsem si vypsal tyto záznami a jelikož byly oba žen, které přežili a patřili do první třídy, tak jsem si v datech našel k nim podobně, a nejčastější embarked hodnotu jim připsal\n",
    "* pro využití informace home.dest jsem si nad daty provedl pár pokusů, jestli se vyplatí doplňovat chybějící hodnoty v tomto sloupci a jak ho vlastně upravit na číselný formát, pokud spočíval v nalezení kolik procent cestujících s vyplněným home.dest přežilo a kolik zemřelo, to stejné jsem provedl i u cabin sloupce, kde se ukázalo, že s nevyplněnou cabin zemřelo 68.4% a s vyplněnou přežilo 65%, proto jsem se rozhodl tuto informaci do dat vnést pomocí 0 a 1, měl neměl"
   ]
  },
  {
   "cell_type": "code",
   "execution_count": 8,
   "metadata": {},
   "outputs": [],
   "source": [
    "#redukce a nahrazeni chybejicich hodnot\n",
    "nodata = nodata[[\"survived\", \"pclass\", \"sex\", \"age\", \"sibsp\", \"parch\", \"embarked\", \"fare\", 'home.dest', 'cabin']]\n",
    "nodata = nodata.fillna('?')\n",
    "\n",
    "#embarked preprocessing na zaklade podobnych zaznamu\n",
    "simel = nodata.loc[(nodata.sex==\"female\") & (nodata.survived==1) & (nodata.pclass==1) & (nodata.embarked!='?')]\n",
    "mostCom = simel.embarked.mode().to_list()[0]\n",
    "nodata.loc[(nodata.embarked=='?'), 'embarked'] = mostCom\n",
    "\n",
    "#home.dest preprocessing\n",
    "nodata['home.dest'] = np.select([(nodata['home.dest']=='?'),(True)], [0, 1])\n",
    "\n",
    "#cabin\n",
    "nodata.cabin = np.select([(nodata.cabin == '?'), (True)], [0, 1])\n",
    "\n",
    "#retype age column\n",
    "nodata = nodata.astype({\"home.dest\": \"int64\"})"
   ]
  },
  {
   "cell_type": "markdown",
   "metadata": {},
   "source": [
    "* v této části dodělávám čištění a úpravu dat\n",
    "* také je zde použití jedne z funkcí zmíněné výše, doplnění věku pomocí knn, to se ukázalo jako kvalitnější a proto to zde používám"
   ]
  },
  {
   "cell_type": "code",
   "execution_count": 9,
   "metadata": {},
   "outputs": [],
   "source": [
    "#decision trees\n",
    "dtdata = nodata\n",
    "\n",
    "#uprava neciselnych hodnot\n",
    "#sex\n",
    "dtdata.loc[(dtdata.sex == 'male'), 'sex']   = 1\n",
    "dtdata.loc[(dtdata.sex == 'female'), 'sex'] = 0\n",
    "\n",
    "#embarked\n",
    "dtdata.embarked.unique()\n",
    "dtdata.embarked = dtdata.embarked.astype('category')\n",
    "dtdata[\"embarked\"] = dtdata.embarked.cat.codes\n",
    "\n",
    "#age preprocessing\n",
    "#dtdata = median_age_missing_finder(dtdata)\n",
    "dtdata = knn_missing_values_finder(dtdata[dtdata.age!='?'], 'age', dtdata[dtdata.age=='?'].drop(columns='age'), 1)\n",
    "\n",
    "dtdata = dtdata.astype({\"age\": \"float\"})"
   ]
  },
  {
   "cell_type": "code",
   "execution_count": 10,
   "metadata": {},
   "outputs": [],
   "source": [
    "#extrakce vysvetlovanou hodnotu\n",
    "xdata = dtdata[dtdata.columns.difference([\"survived\"])]\n",
    "ydata = dtdata[[\"survived\"]]"
   ]
  },
  {
   "cell_type": "code",
   "execution_count": 11,
   "metadata": {},
   "outputs": [
    {
     "name": "stdout",
     "output_type": "stream",
     "text": [
      "puvodni data\n"
     ]
    },
    {
     "data": {
      "text/plain": [
       "(1000, 9)"
      ]
     },
     "metadata": {},
     "output_type": "display_data"
    },
    {
     "data": {
      "text/plain": [
       "(1000, 1)"
      ]
     },
     "metadata": {},
     "output_type": "display_data"
    },
    {
     "name": "stdout",
     "output_type": "stream",
     "text": [
      "trenovaci data\n"
     ]
    },
    {
     "data": {
      "text/plain": [
       "(750, 9)"
      ]
     },
     "metadata": {},
     "output_type": "display_data"
    },
    {
     "data": {
      "text/plain": [
       "(750, 1)"
      ]
     },
     "metadata": {},
     "output_type": "display_data"
    },
    {
     "name": "stdout",
     "output_type": "stream",
     "text": [
      "testovaci data\n"
     ]
    },
    {
     "data": {
      "text/plain": [
       "(250, 9)"
      ]
     },
     "metadata": {},
     "output_type": "display_data"
    },
    {
     "data": {
      "text/plain": [
       "(250, 9)"
      ]
     },
     "metadata": {},
     "output_type": "display_data"
    }
   ],
   "source": [
    "#rozdeleni dat - nahlédnutí nad podobou dat\n",
    "rd_seed = 66\n",
    "xtrain, xtest, ytrain, ytest = train_test_split(xdata, ydata, test_size=0.25, random_state=rd_seed)\n",
    "print(\"puvodni data\")\n",
    "display(xdata.shape)\n",
    "display(ydata.shape)\n",
    "print(\"trenovaci data\")\n",
    "display(xtrain.shape)\n",
    "display(ytrain.shape)\n",
    "print(\"testovaci data\")\n",
    "display(xtest.shape)\n",
    "display(xtest.shape)"
   ]
  },
  {
   "cell_type": "code",
   "execution_count": 12,
   "metadata": {},
   "outputs": [
    {
     "name": "stdout",
     "output_type": "stream",
     "text": [
      "trenovaci data\n"
     ]
    },
    {
     "data": {
      "text/plain": [
       "(562, 9)"
      ]
     },
     "metadata": {},
     "output_type": "display_data"
    },
    {
     "data": {
      "text/plain": [
       "(562, 1)"
      ]
     },
     "metadata": {},
     "output_type": "display_data"
    },
    {
     "name": "stdout",
     "output_type": "stream",
     "text": [
      "validacni data\n"
     ]
    },
    {
     "data": {
      "text/plain": [
       "(188, 9)"
      ]
     },
     "metadata": {},
     "output_type": "display_data"
    },
    {
     "data": {
      "text/plain": [
       "(188, 1)"
      ]
     },
     "metadata": {},
     "output_type": "display_data"
    }
   ],
   "source": [
    "#rozdeleni trenovacich dat - nahlédnutí nad podobou dat\n",
    "xtrain, xval, ytrain, yval = train_test_split(xtrain, ytrain, test_size=0.25, random_state=rd_seed)\n",
    "print(\"trenovaci data\")\n",
    "display(xtrain.shape)\n",
    "display(ytrain.shape)\n",
    "print(\"validacni data\")\n",
    "display(xval.shape)\n",
    "display(yval.shape)"
   ]
  },
  {
   "cell_type": "markdown",
   "metadata": {},
   "source": [
    "* Zde konečně vytvářím rozhodovací strom s hloubkou 50, chtěl jsem si nejdříve zjistit, jakého výsldku dosáhnu bez ladění parametrů, v rámci úkolu si znovu procházím cvičení, na kterém jsme tohle dělali"
   ]
  },
  {
   "cell_type": "code",
   "execution_count": 13,
   "metadata": {},
   "outputs": [
    {
     "data": {
      "text/plain": [
       "DecisionTreeClassifier(ccp_alpha=0.0, class_weight=None, criterion='gini',\n",
       "                       max_depth=50, max_features=None, max_leaf_nodes=None,\n",
       "                       min_impurity_decrease=0.0, min_impurity_split=None,\n",
       "                       min_samples_leaf=1, min_samples_split=2,\n",
       "                       min_weight_fraction_leaf=0.0, presort='deprecated',\n",
       "                       random_state=None, splitter='best')"
      ]
     },
     "execution_count": 13,
     "metadata": {},
     "output_type": "execute_result"
    }
   ],
   "source": [
    "dt = DecisionTreeClassifier(max_depth=50)\n",
    "dt.fit(xtrain, ytrain)"
   ]
  },
  {
   "cell_type": "code",
   "execution_count": 14,
   "metadata": {},
   "outputs": [],
   "source": [
    "ypredicted = dt.predict(xtrain)"
   ]
  },
  {
   "cell_type": "code",
   "execution_count": 15,
   "metadata": {},
   "outputs": [
    {
     "name": "stdout",
     "output_type": "stream",
     "text": [
      "accuracy score (train): 0.982206\n"
     ]
    }
   ],
   "source": [
    "print('accuracy score (train): {0:.6f}'.format(metrics.accuracy_score(ytrain, dt.predict(xtrain))))"
   ]
  },
  {
   "cell_type": "code",
   "execution_count": 16,
   "metadata": {},
   "outputs": [
    {
     "name": "stdout",
     "output_type": "stream",
     "text": [
      "accuracy score (train): 0.692000\n"
     ]
    }
   ],
   "source": [
    "print('accuracy score (train): {0:.6f}'.format(metrics.accuracy_score(ytest, dt.predict(xtest))))"
   ]
  },
  {
   "cell_type": "code",
   "execution_count": 17,
   "metadata": {},
   "outputs": [
    {
     "data": {
      "text/plain": [
       "[{'splitter': 'best', 'max_depth': 1, 'criterion': 'entropy'},\n",
       " {'splitter': 'random', 'max_depth': 1, 'criterion': 'entropy'}]"
      ]
     },
     "execution_count": 17,
     "metadata": {},
     "output_type": "execute_result"
    }
   ],
   "source": [
    "#ladeni vicera parametru\n",
    "from sklearn.model_selection import ParameterGrid\n",
    "param_grid = {\n",
    "    'max_depth': range(1, 24),\n",
    "    'criterion': ['entropy', 'gini'],\n",
    "    'splitter': ['best', 'random']#, 'random'\n",
    "}\n",
    "\n",
    "param_comb = ParameterGrid(param_grid)\n",
    "[param_comb[i] for i in range(2)]"
   ]
  },
  {
   "cell_type": "code",
   "execution_count": 18,
   "metadata": {},
   "outputs": [
    {
     "data": {
      "text/plain": [
       "<bound method BaseEstimator.get_params of DecisionTreeClassifier(ccp_alpha=0.0, class_weight=None, criterion='gini',\n",
       "                       max_depth=50, max_features=None, max_leaf_nodes=None,\n",
       "                       min_impurity_decrease=0.0, min_impurity_split=None,\n",
       "                       min_samples_leaf=1, min_samples_split=2,\n",
       "                       min_weight_fraction_leaf=0.0, presort='deprecated',\n",
       "                       random_state=None, splitter='best')>"
      ]
     },
     "execution_count": 18,
     "metadata": {},
     "output_type": "execute_result"
    }
   ],
   "source": [
    "#informace o parametrech, ktere mohu pouzit k ladeni\n",
    "dt.get_params"
   ]
  },
  {
   "cell_type": "code",
   "execution_count": 19,
   "metadata": {},
   "outputs": [
    {
     "name": "stdout",
     "output_type": "stream",
     "text": [
      "Best params: {'splitter': 'best', 'max_depth': 3, 'criterion': 'gini'}\n",
      "Best RMSLE:  0.4463299739740153\n"
     ]
    }
   ],
   "source": [
    "val_acc = []\n",
    "train_acc = []\n",
    "for params in param_comb:\n",
    "    dt = DecisionTreeClassifier(max_depth=params['max_depth'], criterion=params['criterion'], splitter=params['splitter'])\n",
    "    dt.fit(xtrain, ytrain)\n",
    "    train_acc.append(metrics.accuracy_score(ytrain, dt.predict(xtrain)))\n",
    "    val_acc.append(metrics.accuracy_score(yval, dt.predict(xval)))\n",
    "\n",
    "#nalezeni nejlepsich parametru pomoci krizove validace, dle jejiho ohodnoceni vybiram nejlepsi kombinaci dle prirazeneho skore\n",
    "dt_cross_params = get_best_params('dt', param_comb, 'survived', dtdata)"
   ]
  },
  {
   "cell_type": "code",
   "execution_count": 20,
   "metadata": {},
   "outputs": [
    {
     "data": {
      "text/plain": [
       "<matplotlib.legend.Legend at 0x7f021ac02f10>"
      ]
     },
     "execution_count": 20,
     "metadata": {},
     "output_type": "execute_result"
    },
    {
     "data": {
      "image/png": "[encoded data removed]",
      "text/plain": [
       "<Figure size 1440x432 with 1 Axes>"
      ]
     },
     "metadata": {
      "needs_background": "light"
     },
     "output_type": "display_data"
    }
   ],
   "source": [
    "# graficka podoba trenovaci a validacni presnosti v prubehu ladeni\n",
    "plt.figure(figsize=(20,6))\n",
    "plt.plot(train_acc, 'or-')\n",
    "plt.plot(val_acc,'ob-')\n",
    "plt.xlabel('hyperparametr index')\n",
    "plt.ylabel('accuracy')\n",
    "plt.legend(['train', 'validation'])"
   ]
  },
  {
   "cell_type": "code",
   "execution_count": 21,
   "metadata": {},
   "outputs": [
    {
     "name": "stdout",
     "output_type": "stream",
     "text": [
      "{'splitter': 'best', 'max_depth': 3, 'criterion': 'entropy'}\n",
      "0.8563829787234043\n",
      "0.7846975088967971\n"
     ]
    }
   ],
   "source": [
    "#informace o nejlepsi a presnosti validacni a trenovaci mnoziny dat, nejlepsi kombinace\n",
    "dt_best_params = param_comb[np.argmax(val_acc)]\n",
    "print(dt_best_params)\n",
    "print(val_acc[np.argmax(val_acc)])\n",
    "print(train_acc[np.argmax(val_acc)])"
   ]
  },
  {
   "cell_type": "code",
   "execution_count": 22,
   "metadata": {},
   "outputs": [
    {
     "data": {
      "text/plain": [
       "DecisionTreeClassifier(ccp_alpha=0.0, class_weight=None, criterion='entropy',\n",
       "                       max_depth=3, max_features=None, max_leaf_nodes=None,\n",
       "                       min_impurity_decrease=0.0, min_impurity_split=None,\n",
       "                       min_samples_leaf=1, min_samples_split=2,\n",
       "                       min_weight_fraction_leaf=0.0, presort='deprecated',\n",
       "                       random_state=None, splitter='best')"
      ]
     },
     "execution_count": 22,
     "metadata": {},
     "output_type": "execute_result"
    }
   ],
   "source": [
    "#testovani modelu na nejlepsi kombinaci\n",
    "dt = DecisionTreeClassifier(**dt_best_params)\n",
    "dt.fit(xtrain, ytrain)"
   ]
  },
  {
   "cell_type": "code",
   "execution_count": 23,
   "metadata": {},
   "outputs": [
    {
     "name": "stdout",
     "output_type": "stream",
     "text": [
      "accuracy score (train): 0.784698\n",
      "accuracy score (validation): 0.856383\n",
      "accuracy score (test): 0.816000\n"
     ]
    }
   ],
   "source": [
    "#informace o presnosti vysledneho modelu na trenovaci, validacni a testovaci mnozine\n",
    "print('accuracy score (train): {0:.6f}'.format(metrics.accuracy_score(ytrain, dt.predict(xtrain))))\n",
    "print('accuracy score (validation): {0:.6f}'.format(metrics.accuracy_score(yval, dt.predict(xval))))\n",
    "print('accuracy score (test): {0:.6f}'.format(metrics.accuracy_score(ytest, dt.predict(xtest))))"
   ]
  },
  {
   "cell_type": "markdown",
   "metadata": {},
   "source": [
    "* Druhým modelem, který na těchto datech chci použít je Random Forest\n",
    "* Vybírám parametry k ladění a pomocí nich hledám nejlepší kombinaci\n",
    "* Společně s laděním si zjišťuji i nejlepší kombinaci pomocí křížové validace"
   ]
  },
  {
   "cell_type": "code",
   "execution_count": 24,
   "metadata": {},
   "outputs": [
    {
     "name": "stdout",
     "output_type": "stream",
     "text": [
      "Best params: {'n_estimators': 46, 'max_depth': 4}\n",
      "Best RMSLE:  0.444182687228836\n"
     ]
    }
   ],
   "source": [
    "#random forest\n",
    "param_grid = {\n",
    "    'n_estimators': range(1, 100, 5),\n",
    "    'max_depth': range(1, 5)\n",
    "}\n",
    "param_comb = ParameterGrid(param_grid)\n",
    "\n",
    "val_acc = []\n",
    "train_acc = []\n",
    "#prohledavani kombinaci k ziskani te nejlepsi k natrenovani modelu\n",
    "for params in param_comb:\n",
    "    rf = RandomForestClassifier(**params)\n",
    "    rf = rf.fit(xtrain, ytrain.values.ravel())\n",
    "    train_acc.append(metrics.accuracy_score(ytrain, rf.predict(xtrain)))\n",
    "    val_acc.append(metrics.accuracy_score(yval, rf.predict(xval)))\n",
    "    \n",
    "#křížová validace - její nalezené nejlepší kombinace\n",
    "rf_cross_params = get_best_params('rf', param_comb, 'survived', dtdata)"
   ]
  },
  {
   "cell_type": "code",
   "execution_count": 25,
   "metadata": {},
   "outputs": [
    {
     "data": {
      "text/plain": [
       "<matplotlib.legend.Legend at 0x7f02186f3c40>"
      ]
     },
     "execution_count": 25,
     "metadata": {},
     "output_type": "execute_result"
    },
    {
     "data": {
      "image/png": "[encoded data removed]",
      "text/plain": [
       "<Figure size 1440x432 with 1 Axes>"
      ]
     },
     "metadata": {
      "needs_background": "light"
     },
     "output_type": "display_data"
    }
   ],
   "source": [
    "# graficka reprezentace postupneho ladeni modelu\n",
    "plt.figure(figsize=(20,6))\n",
    "plt.plot(train_acc, 'or-')\n",
    "plt.plot(val_acc,'ob-')\n",
    "plt.xlabel('hyperparametr index')\n",
    "plt.ylabel('accuracy')\n",
    "plt.legend(['train', 'validation'])"
   ]
  },
  {
   "cell_type": "code",
   "execution_count": 26,
   "metadata": {},
   "outputs": [
    {
     "name": "stdout",
     "output_type": "stream",
     "text": [
      "{'n_estimators': 16, 'max_depth': 4}\n",
      "0.8563829787234043\n",
      "0.798932384341637\n"
     ]
    }
   ],
   "source": [
    "# vypsani nejlepsi nalezene kombinace\n",
    "rf_best_params = param_comb[np.argmax(val_acc)]\n",
    "print(rf_best_params)\n",
    "print(val_acc[np.argmax(val_acc)])\n",
    "print(train_acc[np.argmax(val_acc)])"
   ]
  },
  {
   "cell_type": "code",
   "execution_count": 27,
   "metadata": {},
   "outputs": [
    {
     "data": {
      "text/plain": [
       "RandomForestClassifier(bootstrap=True, ccp_alpha=0.0, class_weight=None,\n",
       "                       criterion='gini', max_depth=4, max_features='auto',\n",
       "                       max_leaf_nodes=None, max_samples=None,\n",
       "                       min_impurity_decrease=0.0, min_impurity_split=None,\n",
       "                       min_samples_leaf=1, min_samples_split=2,\n",
       "                       min_weight_fraction_leaf=0.0, n_estimators=16,\n",
       "                       n_jobs=None, oob_score=False, random_state=None,\n",
       "                       verbose=0, warm_start=False)"
      ]
     },
     "execution_count": 27,
     "metadata": {},
     "output_type": "execute_result"
    }
   ],
   "source": [
    "#pouziti nejlepsi kombinace hyper-parametru\n",
    "rf = RandomForestClassifier(**rf_best_params)\n",
    "rf.fit(xtrain, ytrain.values.ravel())"
   ]
  },
  {
   "cell_type": "code",
   "execution_count": 28,
   "metadata": {},
   "outputs": [
    {
     "name": "stdout",
     "output_type": "stream",
     "text": [
      "accuracy score (train): 0.820285\n",
      "accuracy score (validation): 0.840426\n",
      "accuracy score (test): 0.816000\n"
     ]
    }
   ],
   "source": [
    "#vypsani presnosti na trenovaci, validacni a testovaci mnozine dat\n",
    "print('accuracy score (train): {0:.6f}'.format(metrics.accuracy_score(ytrain, rf.predict(xtrain))))\n",
    "print('accuracy score (validation): {0:.6f}'.format(metrics.accuracy_score(yval, rf.predict(xval))))\n",
    "print('accuracy score (test): {0:.6f}'.format(metrics.accuracy_score(ytest, rf.predict(xtest))))"
   ]
  },
  {
   "cell_type": "markdown",
   "metadata": {},
   "source": [
    "### Testování výsledků, predikce dat a jejich uležení\n",
    "* Nyní mám už vše co potřebuji k predikci dat bez vysvětlované hodnoty\n",
    "* Než se však na to pustím, je třeba tyto data opět upravit, vyčistit a připravit pro natrénované modely"
   ]
  },
  {
   "cell_type": "code",
   "execution_count": 29,
   "metadata": {},
   "outputs": [
    {
     "name": "stdout",
     "output_type": "stream",
     "text": [
      "ID             0\n",
      "pclass         0\n",
      "name           0\n",
      "sex            0\n",
      "age           60\n",
      "sibsp          0\n",
      "parch          0\n",
      "ticket         0\n",
      "fare           1\n",
      "cabin        240\n",
      "embarked       0\n",
      "home.dest    118\n",
      "dtype: int64\n"
     ]
    },
    {
     "data": {
      "text/html": [
       "<div>\n",
       "<style scoped>\n",
       "    .dataframe tbody tr th:only-of-type {\n",
       "        vertical-align: middle;\n",
       "    }\n",
       "\n",
       "    .dataframe tbody tr th {\n",
       "        vertical-align: top;\n",
       "    }\n",
       "\n",
       "    .dataframe thead th {\n",
       "        text-align: right;\n",
       "    }\n",
       "</style>\n",
       "<table border=\"1\" class=\"dataframe\">\n",
       "  <thead>\n",
       "    <tr style=\"text-align: right;\">\n",
       "      <th></th>\n",
       "      <th>ID</th>\n",
       "      <th>pclass</th>\n",
       "      <th>name</th>\n",
       "      <th>sex</th>\n",
       "      <th>age</th>\n",
       "      <th>sibsp</th>\n",
       "      <th>parch</th>\n",
       "      <th>ticket</th>\n",
       "      <th>fare</th>\n",
       "      <th>cabin</th>\n",
       "      <th>embarked</th>\n",
       "      <th>home.dest</th>\n",
       "    </tr>\n",
       "  </thead>\n",
       "  <tbody>\n",
       "    <tr>\n",
       "      <th>149</th>\n",
       "      <td>1149</td>\n",
       "      <td>3</td>\n",
       "      <td>Storey, Mr. Thomas</td>\n",
       "      <td>male</td>\n",
       "      <td>60.5</td>\n",
       "      <td>0</td>\n",
       "      <td>0</td>\n",
       "      <td>3701</td>\n",
       "      <td>?</td>\n",
       "      <td>?</td>\n",
       "      <td>S</td>\n",
       "      <td>?</td>\n",
       "    </tr>\n",
       "  </tbody>\n",
       "</table>\n",
       "</div>"
      ],
      "text/plain": [
       "       ID  pclass                name   sex   age  sibsp  parch ticket fare  \\\n",
       "149  1149       3  Storey, Mr. Thomas  male  60.5      0      0   3701    ?   \n",
       "\n",
       "    cabin embarked home.dest  \n",
       "149     ?        S         ?  "
      ]
     },
     "metadata": {},
     "output_type": "display_data"
    }
   ],
   "source": [
    "#nacteni dat\n",
    "eval_data = pd.read_csv(\"evaluation.csv\")\n",
    "\n",
    "#uchovani originalnich dat\n",
    "org_data = eval_data\n",
    "\n",
    "#nahlednuti do dat, ktera chybi a ktera ne\n",
    "eval_data = eval_data.replace('?', np.nan)\n",
    "print(eval_data.isnull().sum(axis=0))\n",
    "\n",
    "#nahrazeni chybejicich hodnot znakem ?, lepe se mi s tim pak pracuje\n",
    "eval_data = eval_data.fillna('?')\n",
    "#info o jednom zaznamu, abych ho mohl dale doplnit nalezitou hodnotou fare\n",
    "display(eval_data[eval_data.fare == '?'])"
   ]
  },
  {
   "cell_type": "code",
   "execution_count": 30,
   "metadata": {},
   "outputs": [],
   "source": [
    "#predzpracovani dat\n",
    "#redukce a nahrazeni chybejicich hodnot\n",
    "eval_data = eval_data[[\"pclass\", \"sex\", \"age\", \"sibsp\", \"parch\", \"embarked\", \"fare\", 'home.dest', 'cabin']]\n",
    "eval_data = eval_data.fillna('?')\n",
    "\n",
    "#embarked preprocessing na zaklade podobnych zaznamu\n",
    "simel = eval_data.loc[(eval_data.sex==\"male\") & (eval_data.pclass==3) & (eval_data.fare!='?') & (eval_data.sibsp==0) & (eval_data.parch ==0)]\n",
    "mostCom = simel.fare.mode().to_list()[0]\n",
    "\n",
    "eval_data.loc[(eval_data.fare=='?'), 'fare'] = mostCom\n",
    "eval_data = eval_data.astype({'fare': 'int64'})\n",
    "\n",
    "#home.dest preprocessing\n",
    "eval_data['home.dest'] = np.select([(eval_data['home.dest']=='?'),(True)], [0, 1])\n",
    "\n",
    "#cabin\n",
    "eval_data.cabin = np.select([(eval_data.cabin == '?'), (True)], [0, 1])\n",
    "\n",
    "#retype age column\n",
    "eval_data = eval_data.astype({\"home.dest\": \"int64\"})\n",
    "\n",
    "eval_data.loc[(eval_data.sex == 'male'), 'sex']   = 1\n",
    "eval_data.loc[(eval_data.sex == 'female'), 'sex'] = 0\n",
    "\n",
    "eval_data = eval_data.astype({'sex': 'int64'})\n",
    "\n",
    "#embarked\n",
    "eval_data.embarked.unique()\n",
    "eval_data.embarked = eval_data.embarked.astype('category')\n",
    "eval_data[\"embarked\"] = eval_data.embarked.cat.codes"
   ]
  },
  {
   "cell_type": "code",
   "execution_count": 31,
   "metadata": {},
   "outputs": [
    {
     "name": "stdout",
     "output_type": "stream",
     "text": [
      "<class 'pandas.core.frame.DataFrame'>\n",
      "RangeIndex: 309 entries, 0 to 308\n",
      "Data columns (total 9 columns):\n",
      " #   Column     Non-Null Count  Dtype \n",
      "---  ------     --------------  ----- \n",
      " 0   pclass     309 non-null    int64 \n",
      " 1   sex        309 non-null    int64 \n",
      " 2   age        309 non-null    object\n",
      " 3   sibsp      309 non-null    int64 \n",
      " 4   parch      309 non-null    int64 \n",
      " 5   embarked   309 non-null    int8  \n",
      " 6   fare       309 non-null    int64 \n",
      " 7   home.dest  309 non-null    int64 \n",
      " 8   cabin      309 non-null    int64 \n",
      "dtypes: int64(7), int8(1), object(1)\n",
      "memory usage: 19.7+ KB\n"
     ]
    },
    {
     "data": {
      "text/plain": [
       "None"
      ]
     },
     "metadata": {},
     "output_type": "display_data"
    }
   ],
   "source": [
    "display(eval_data.info())"
   ]
  },
  {
   "cell_type": "code",
   "execution_count": 32,
   "metadata": {},
   "outputs": [],
   "source": [
    "#age preprocessing\n",
    "#eval_data = median_age_missing_finder(eval_data)\n",
    "eval_data = knn_missing_values_finder(eval_data[eval_data.age!='?'], 'age', eval_data[eval_data.age=='?'].drop(columns='age'))\n",
    "\n",
    "eval_data = eval_data.astype({\"age\": \"float\"})"
   ]
  },
  {
   "cell_type": "code",
   "execution_count": 33,
   "metadata": {},
   "outputs": [
    {
     "data": {
      "text/plain": [
       "array([1, 1, 1, 1, 1, 1, 1, 1, 1, 1, 1, 1, 1, 1, 1, 1, 1, 1, 1, 1, 1, 1,\n",
       "       1, 1, 1, 1, 1, 1, 1, 1, 1, 1, 1, 1, 1, 1, 1, 1, 1, 1, 1, 1, 1, 1,\n",
       "       1, 1, 1, 1, 1, 1, 1, 1, 1, 1, 1, 1, 1, 1, 1, 1, 1, 1, 1, 1, 1, 1,\n",
       "       1, 1, 1, 1, 1, 1, 1, 1, 1, 1, 1, 1, 1, 1, 1, 1, 1, 1, 1, 1, 1, 1,\n",
       "       1, 1, 1, 1, 1, 1, 1, 1, 1, 1, 1, 1, 1, 1, 1, 1, 1, 1, 1, 1, 1, 1,\n",
       "       1, 1, 1, 1, 1, 1, 1, 1, 1, 1, 1, 1, 1, 1, 1, 1, 1, 1, 1, 1, 1, 1,\n",
       "       1, 1, 1, 1, 1, 1, 1, 1, 1, 1, 1, 1, 1, 1, 1, 1, 1, 1, 1, 1, 1, 1,\n",
       "       1, 1, 1, 1, 1, 1, 1, 1, 1, 1, 1, 1, 1, 1, 1, 1, 1, 1, 1, 1, 1, 1,\n",
       "       1, 1, 1, 1, 1, 1, 1, 1, 1, 1, 1, 1, 1, 1, 1, 1, 1, 1, 1, 1, 1, 1,\n",
       "       1, 1, 1, 1, 1, 1, 1, 1, 1, 1, 1, 1, 1, 1, 1, 1, 1, 1, 1, 1, 1, 1,\n",
       "       1, 1, 1, 1, 1, 1, 1, 1, 1, 1, 1, 1, 1, 1, 1, 1, 1, 1, 1, 1, 1, 1,\n",
       "       1, 1, 1, 1, 1, 1, 1, 1, 1, 1, 1, 1, 1, 1, 1, 1, 1, 1, 1, 1, 1, 1,\n",
       "       1, 1, 1, 1, 1, 1, 1, 1, 1, 1, 1, 1, 1, 1, 1, 1, 1, 1, 1, 1, 1, 1,\n",
       "       1, 1, 1, 1, 1, 1, 1, 1, 1, 1, 1, 1, 1, 1, 1, 1, 1, 1, 1, 1, 1, 1,\n",
       "       1])"
      ]
     },
     "metadata": {},
     "output_type": "display_data"
    },
    {
     "data": {
      "text/plain": [
       "array([1, 1, 0, 0, 0, 1, 0, 0, 1, 0, 0, 1, 0, 0, 1, 0, 0, 0, 0, 1, 1, 1,\n",
       "       1, 0, 0, 1, 1, 0, 0, 1, 1, 0, 0, 0, 0, 0, 1, 0, 1, 1, 0, 1, 0, 1,\n",
       "       0, 0, 1, 0, 0, 1, 0, 1, 0, 0, 1, 0, 0, 0, 0, 0, 0, 0, 0, 1, 0, 0,\n",
       "       0, 0, 1, 0, 0, 0, 0, 0, 1, 1, 1, 0, 0, 0, 0, 1, 0, 1, 0, 0, 1, 1,\n",
       "       0, 0, 0, 1, 1, 1, 0, 1, 0, 0, 0, 1, 0, 1, 0, 1, 0, 0, 0, 0, 1, 0,\n",
       "       0, 0, 0, 1, 0, 1, 0, 1, 1, 0, 0, 0, 1, 1, 1, 0, 1, 0, 1, 1, 0, 0,\n",
       "       0, 0, 0, 0, 0, 0, 0, 0, 0, 1, 0, 0, 0, 1, 1, 0, 0, 0, 0, 0, 1, 0,\n",
       "       0, 1, 0, 0, 0, 0, 0, 0, 0, 0, 0, 1, 0, 0, 0, 0, 1, 1, 0, 1, 0, 0,\n",
       "       1, 0, 0, 0, 0, 0, 1, 0, 0, 0, 0, 1, 0, 0, 0, 1, 1, 1, 1, 1, 0, 1,\n",
       "       1, 0, 0, 0, 0, 0, 1, 0, 0, 0, 1, 1, 1, 0, 1, 0, 0, 0, 1, 0, 1, 0,\n",
       "       0, 1, 0, 0, 1, 0, 0, 1, 0, 0, 0, 1, 0, 0, 0, 0, 1, 0, 0, 1, 0, 0,\n",
       "       0, 1, 0, 1, 1, 1, 1, 0, 0, 0, 1, 0, 0, 0, 0, 0, 1, 1, 1, 1, 1, 0,\n",
       "       0, 1, 0, 0, 0, 0, 0, 0, 1, 0, 0, 1, 1, 0, 0, 1, 0, 0, 0, 0, 1, 1,\n",
       "       0, 1, 0, 0, 0, 0, 1, 0, 1, 1, 0, 0, 0, 0, 1, 0, 0, 1, 0, 0, 0, 1,\n",
       "       0])"
      ]
     },
     "metadata": {},
     "output_type": "display_data"
    }
   ],
   "source": [
    "#cross-validation, porovnani predikce jednotlivych modelu\n",
    "display(dt.predict(eval_data))\n",
    "display(rf.predict(eval_data))"
   ]
  },
  {
   "cell_type": "markdown",
   "metadata": {},
   "source": [
    "* Uložení dat s jejich predikcí survived\n",
    "* Pro predikci survived hodnoty používám model Random Forest\n",
    "    * Z několika běhů programu jsem vypozoroval, že má daleko stabilnější a lepší výsledky oproti Decision Tree\n",
    "    * Na základě toho jej využívám ke generování predikce"
   ]
  },
  {
   "cell_type": "code",
   "execution_count": 34,
   "metadata": {},
   "outputs": [],
   "source": [
    "#vyber modelu ktery pouziji\n",
    "model = rf\n",
    "#predikce\n",
    "pre_sur = model.predict(eval_data)\n",
    "#vlozeni predikce k datum\n",
    "org_data['survived'] = pre_sur\n",
    "#vybrani jen chtenych dat\n",
    "result = org_data[['ID', 'survived']]\n",
    "#ulozeni do souboru\n",
    "result.to_csv('result.csv', sep=',', index=False)"
   ]
  },
  {
   "cell_type": "markdown",
   "metadata": {},
   "source": [
    "* Nakonec ověřuji kvalitu vybraného modelu pomocí křížové validace"
   ]
  },
  {
   "cell_type": "code",
   "execution_count": 35,
   "metadata": {},
   "outputs": [],
   "source": [
    "#crossvalidation\n",
    "data = dtdata\n",
    "n_splits = 5\n",
    "random_seed = 12247112\n",
    "comb_err = []\n",
    "\n",
    "for train, val in KFold(n_splits=n_splits, random_state=random_seed).split(data.index):\n",
    "    #vytvoreni trenovaci a validacni mnoziny\n",
    "    xtrain = data[data.index.isin(train)].drop(columns='survived')\n",
    "    ytrain = data[data.index.isin(train)]['survived']\n",
    "    xval = data[data.index.isin(val)].drop(columns='survived')\n",
    "    yval = data[data.index.isin(val)]['survived']\n",
    "\n",
    "    # Scaler opět nafitujeme podle trénovacích dat a následně transformujeme i validační\n",
    "    scaler = MinMaxScaler()\n",
    "    xtrain = pd.DataFrame(scaler.fit_transform(xtrain), index=xtrain.index, columns=xtrain.columns)\n",
    "    xval = pd.DataFrame(scaler.transform(xval), index=xval.index, columns=xval.columns)\n",
    "\n",
    "    # Natrénujeme model a změříme validační chybu (RMSLE)\n",
    "    model = RandomForestClassifier(**rf_cross_params)\n",
    "    #model = DecisionTreeClassifier(**dt_best_params)\n",
    "    model = model.fit(xtrain, ytrain.values.ravel())\n",
    "    comb_err.append(np.sqrt(metrics.mean_squared_error(yval, model.predict(xval))))\n",
    "    "
   ]
  },
  {
   "cell_type": "code",
   "execution_count": 36,
   "metadata": {},
   "outputs": [
    {
     "name": "stdout",
     "output_type": "stream",
     "text": [
      "Mean error: 0.45886208975424825\n"
     ]
    }
   ],
   "source": [
    "#zobrazeni kvality modelu pomoci stredni hodnoty ze vsech hodnot v comb_err\n",
    "print('Mean error:', np.mean(comb_err))"
   ]
  }
 ],
 "metadata": {
  "kernelspec": {
   "display_name": "Python 3",
   "language": "python",
   "name": "python3"
  },
  "language_info": {
   "codemirror_mode": {
    "name": "ipython",
    "version": 3
   },
   "file_extension": ".py",
   "mimetype": "text/x-python",
   "name": "python",
   "nbconvert_exporter": "python",
   "pygments_lexer": "ipython3",
   "version": "3.8.5"
  }
 },
 "nbformat": 4,
 "nbformat_minor": 4
}
